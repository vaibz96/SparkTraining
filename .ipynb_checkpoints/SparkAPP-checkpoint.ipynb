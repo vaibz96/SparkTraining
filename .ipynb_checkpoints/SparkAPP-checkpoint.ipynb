{
 "cells": [
  {
   "cell_type": "code",
   "execution_count": 10,
   "id": "7a77d85c",
   "metadata": {},
   "outputs": [],
   "source": [
    "# Importing the packages\n",
    "from pyspark.sql import SparkSession\n",
    "from pyspark.sql.types import StructType, StructField, IntegerType, StringType\n",
    "import pyspark.sql.functions as func"
   ]
  },
  {
   "cell_type": "code",
   "execution_count": 11,
   "id": "1c537d9f",
   "metadata": {},
   "outputs": [],
   "source": [
    "# Creating the SparkSession\n",
    "spark = SparkSession.builder.appName(\"FirstApp\").getOrCreate()"
   ]
  },
  {
   "cell_type": "code",
   "execution_count": 12,
   "id": "6448fa79",
   "metadata": {},
   "outputs": [],
   "source": [
    "# Defining schema for your DataFrame\n",
    "mySchema = StructType([\n",
    "    StructField(\"userID\", IntegerType(), True),\n",
    "    StructField(\"name\", StringrType(), True),\n",
    "    StructField(\"age\", IntegerType(), True),\n",
    "    StructField(\"friends\", IntegerType(), True),\n",
    "])"
   ]
  },
  {
   "cell_type": "code",
   "execution_count": 13,
   "id": "d5e9d8b0",
   "metadata": {},
   "outputs": [],
   "source": [
    "# Creating DataFrame on a CSV file\n",
    "people = spark.read.format(\"csv\")\\\n",
    ".schema(mySchema)\\\n",
    ".option(\"path\", \"fakefriends.csv\")\\\n",
    ".load()"
   ]
  },
  {
   "cell_type": "code",
   "execution_count": 14,
   "id": "a117489f",
   "metadata": {},
   "outputs": [],
   "source": [
    "# Performing all the transformations\n",
    "output = people.select(people.userID, people.name, people.age, people.friends)\\\n",
    ".where(people.age < 30).withColumn('insert_ts', func.current_timestamp())\\\n",
    ".orderBy(people.userID)"
   ]
  },
  {
   "cell_type": "code",
   "execution_count": 15,
   "id": "4e2d4124",
   "metadata": {},
   "outputs": [
    {
     "data": {
      "text/plain": [
       "112"
      ]
     },
     "execution_count": 15,
     "metadata": {},
     "output_type": "execute_result"
    }
   ],
   "source": [
    "# taking the count of o/p DataFrame\n",
    "output.count()"
   ]
  },
  {
   "cell_type": "code",
   "execution_count": 16,
   "id": "0720a006",
   "metadata": {},
   "outputs": [],
   "source": [
    "# Creating a Temp View\n",
    "output.createOrReplaceTempView(\"peoples\")"
   ]
  },
  {
   "cell_type": "code",
   "execution_count": 17,
   "id": "0edb5e4e",
   "metadata": {},
   "outputs": [
    {
     "name": "stdout",
     "output_type": "stream",
     "text": [
      "+----+---+-------+--------------------+\n",
      "|name|age|friends|           insert_ts|\n",
      "+----+---+-------+--------------------+\n",
      "|NULL| 26|      2|2024-02-15 21:14:...|\n",
      "|NULL| 27|    181|2024-02-15 21:14:...|\n",
      "|NULL| 22|    323|2024-02-15 21:14:...|\n",
      "|NULL| 19|    268|2024-02-15 21:14:...|\n",
      "|NULL| 25|      1|2024-02-15 21:14:...|\n",
      "|NULL| 21|    445|2024-02-15 21:14:...|\n",
      "|NULL| 22|    100|2024-02-15 21:14:...|\n",
      "|NULL| 26|    281|2024-02-15 21:14:...|\n",
      "|NULL| 27|    305|2024-02-15 21:14:...|\n",
      "|NULL| 25|     96|2024-02-15 21:14:...|\n",
      "|NULL| 24|     49|2024-02-15 21:14:...|\n",
      "|NULL| 20|      1|2024-02-15 21:14:...|\n",
      "|NULL| 19|    269|2024-02-15 21:14:...|\n",
      "|NULL| 19|      5|2024-02-15 21:14:...|\n",
      "|NULL| 20|    100|2024-02-15 21:14:...|\n",
      "|NULL| 21|    477|2024-02-15 21:14:...|\n",
      "|NULL| 22|    179|2024-02-15 21:14:...|\n",
      "|NULL| 20|    384|2024-02-15 21:14:...|\n",
      "|NULL| 28|    311|2024-02-15 21:14:...|\n",
      "|NULL| 24|    492|2024-02-15 21:14:...|\n",
      "+----+---+-------+--------------------+\n",
      "only showing top 20 rows\n",
      "\n"
     ]
    }
   ],
   "source": [
    "# Running a simple Spark SQL query\n",
    "spark.sql(\"select name, age, friends, insert_ts from peoples\").show()"
   ]
  },
  {
   "cell_type": "code",
   "execution_count": null,
   "id": "18ca88ba",
   "metadata": {},
   "outputs": [],
   "source": []
  }
 ],
 "metadata": {
  "kernelspec": {
   "display_name": "Python 3 (ipykernel)",
   "language": "python",
   "name": "python3"
  },
  "language_info": {
   "codemirror_mode": {
    "name": "ipython",
    "version": 3
   },
   "file_extension": ".py",
   "mimetype": "text/x-python",
   "name": "python",
   "nbconvert_exporter": "python",
   "pygments_lexer": "ipython3",
   "version": "3.11.5"
  }
 },
 "nbformat": 4,
 "nbformat_minor": 5
}
