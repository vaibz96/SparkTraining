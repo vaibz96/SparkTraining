{
 "cells": [
  {
   "cell_type": "code",
   "execution_count": 4,
   "id": "1bfd09dc",
   "metadata": {},
   "outputs": [],
   "source": [
    "from pyspark.sql import SparkSession\n",
    "from pyspark.sql.functions import *\n",
    "from pyspark.sql.types import LongType\n",
    "import pandas as pd\n",
    "from pyspark.sql.functions import col, pandas_udf"
   ]
  },
  {
   "cell_type": "code",
   "execution_count": 15,
   "id": "ebd5e099",
   "metadata": {},
   "outputs": [],
   "source": [
    "spark = SparkSession.\\\n",
    "builder.\\\n",
    "appName(\"sparksql\").\\\n",
    "enableHiveSupport().\\\n",
    "getOrCreate()"
   ]
  },
  {
   "cell_type": "code",
   "execution_count": 16,
   "id": "b2d24d78",
   "metadata": {},
   "outputs": [],
   "source": [
    "def cubed_udf(a: pd.Series) -> pd.Series:\n",
    "    return a * a * a"
   ]
  },
  {
   "cell_type": "code",
   "execution_count": 17,
   "id": "6bea8965",
   "metadata": {},
   "outputs": [],
   "source": [
    "cubed_df = pandas_udf(cubed_udf, returnType=LongType())"
   ]
  },
  {
   "cell_type": "code",
   "execution_count": 18,
   "id": "68558710",
   "metadata": {},
   "outputs": [
    {
     "name": "stdout",
     "output_type": "stream",
     "text": [
      "0     1\n",
      "1     8\n",
      "2    27\n",
      "dtype: int64\n"
     ]
    }
   ],
   "source": [
    "x = pd.Series([1,2,3])\n",
    "\n",
    "print(cubed(x))"
   ]
  },
  {
   "cell_type": "code",
   "execution_count": 19,
   "id": "3219447a",
   "metadata": {},
   "outputs": [],
   "source": [
    "# create a Spark Dataframe, 'spark' is an existing SparkSession\n",
    "df = spark.range(1, 4)"
   ]
  },
  {
   "cell_type": "code",
   "execution_count": 20,
   "id": "b8250d16",
   "metadata": {},
   "outputs": [
    {
     "name": "stdout",
     "output_type": "stream",
     "text": [
      "+---+----------------+\n",
      "| id|((id * id) * id)|\n",
      "+---+----------------+\n",
      "|  1|               1|\n",
      "|  2|               8|\n",
      "|  3|              27|\n",
      "+---+----------------+\n",
      "\n"
     ]
    }
   ],
   "source": [
    "# Execute function as Spark vectorized UDF\n",
    "df.select(\"id\", cubed_udf(col(\"id\"))).show()"
   ]
  },
  {
   "cell_type": "code",
   "execution_count": null,
   "id": "1fbb9783",
   "metadata": {},
   "outputs": [],
   "source": []
  }
 ],
 "metadata": {
  "kernelspec": {
   "display_name": "Python 3 (ipykernel)",
   "language": "python",
   "name": "python3"
  },
  "language_info": {
   "codemirror_mode": {
    "name": "ipython",
    "version": 3
   },
   "file_extension": ".py",
   "mimetype": "text/x-python",
   "name": "python",
   "nbconvert_exporter": "python",
   "pygments_lexer": "ipython3",
   "version": "3.11.5"
  }
 },
 "nbformat": 4,
 "nbformat_minor": 5
}
