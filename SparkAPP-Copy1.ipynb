{
 "cells": [
  {
   "cell_type": "code",
   "execution_count": 3,
   "id": "ed68e9f2",
   "metadata": {},
   "outputs": [],
   "source": [
    "# Importing the packages\n",
    "from pyspark.sql import SparkSession\n",
    "from pyspark.sql.types import StructType, StructField, IntegerType, StringType\n",
    "import pyspark.sql.functions as func"
   ]
  },
  {
   "cell_type": "code",
   "execution_count": 2,
   "id": "6737aa70",
   "metadata": {},
   "outputs": [],
   "source": [
    "# Creating the SparkSession\n",
    "spark = SparkSession.builder.appName(\"FirstApp\").getOrCreate()"
   ]
  },
  {
   "cell_type": "code",
   "execution_count": 4,
   "id": "08d8985d",
   "metadata": {},
   "outputs": [],
   "source": [
    "# Defining schema for your DataFrame\n",
    "mySchema = StructType([\n",
    "    StructField(\"userID\", IntegerType(), True),\n",
    "    StructField(\"name\", StringType(), True),\n",
    "    StructField(\"age\", IntegerType(), True),\n",
    "    StructField(\"friends\", IntegerType(), True),\n",
    "])"
   ]
  },
  {
   "cell_type": "code",
   "execution_count": 5,
   "id": "8b39b09b",
   "metadata": {},
   "outputs": [],
   "source": [
    "# Creating DataFrame on a CSV file\n",
    "people = spark.read.format(\"csv\")\\\n",
    ".schema(mySchema)\\\n",
    ".option(\"path\", \"fakefriends.csv\")\\\n",
    ".load()"
   ]
  },
  {
   "cell_type": "code",
   "execution_count": 6,
   "id": "9e7334f0",
   "metadata": {},
   "outputs": [
    {
     "name": "stdout",
     "output_type": "stream",
     "text": [
      "root\n",
      " |-- userID: integer (nullable = true)\n",
      " |-- name: string (nullable = true)\n",
      " |-- age: integer (nullable = true)\n",
      " |-- friends: integer (nullable = true)\n",
      "\n"
     ]
    }
   ],
   "source": [
    "people.printSchema()"
   ]
  },
  {
   "cell_type": "code",
   "execution_count": 7,
   "id": "51e78970",
   "metadata": {},
   "outputs": [],
   "source": [
    "output = people.select(people.userID, people.name \\\n",
    "                      , people.age, people.friends)\\\n",
    "        .where(people.age < 30).withColumn('insert_ts', func.current_timestamp())\\\n",
    "        .orderBy(people.userID).cache()"
   ]
  },
  {
   "cell_type": "code",
   "execution_count": 8,
   "id": "f81bfe12",
   "metadata": {},
   "outputs": [],
   "source": [
    "output.createOrReplaceTempView(\"peoples\")"
   ]
  },
  {
   "cell_type": "code",
   "execution_count": 9,
   "id": "7ca1fef8",
   "metadata": {},
   "outputs": [
    {
     "name": "stdout",
     "output_type": "stream",
     "text": [
      "+------+--------+\n",
      "|userID|    name|\n",
      "+------+--------+\n",
      "|     1|Jean-Luc|\n",
      "|     9|    Hugh|\n",
      "|    16|  Weyoun|\n",
      "|    21|   Miles|\n",
      "|    24|  Julian|\n",
      "|    25|     Ben|\n",
      "|    26|  Julian|\n",
      "|    32|     Nog|\n",
      "|    35| Beverly|\n",
      "|    46|    Morn|\n",
      "|    47|   Brunt|\n",
      "|    48|     Nog|\n",
      "|    52| Beverly|\n",
      "|    54|   Brunt|\n",
      "|    60|  Geordi|\n",
      "|    66|  Geordi|\n",
      "|    72|  Kasidy|\n",
      "|    73|   Brunt|\n",
      "|    84|     Ben|\n",
      "|    89|    Worf|\n",
      "+------+--------+\n",
      "only showing top 20 rows\n",
      "\n"
     ]
    }
   ],
   "source": [
    "spark.sql(\"SELECT userID, name FROM peoples\").show()"
   ]
  },
  {
   "cell_type": "code",
   "execution_count": null,
   "id": "c9d264aa",
   "metadata": {},
   "outputs": [],
   "source": [
    "output.write\\\n",
    ".format(\"parquet\").mode(\"overwrite\")\\\n",
    ".option(\"path\", \"C:/Users/shanb/SparkTraining/op\")\\\n",
    ".partitionBy(\"age\")\\\n",
    ".save()"
   ]
  },
  {
   "cell_type": "code",
   "execution_count": null,
   "id": "24316c18",
   "metadata": {},
   "outputs": [],
   "source": [
    "output.write\\\n",
    ".format(\"csv\").mode(\"overwrite\")\\\n",
    ".option(\"path\", \"C:/Users/shanb/SparkTraining/op\")\\\n",
    ".partitionBy(\"age\")\\\n",
    ".save()"
   ]
  },
  {
   "cell_type": "code",
   "execution_count": null,
   "id": "315d551e",
   "metadata": {},
   "outputs": [],
   "source": [
    "output.write\\\n",
    ".format(\"json\").mode(\"overwrite\")\\\n",
    ".option(\"path\", \"C:/Users/shanb/SparkTraining/op\")\\\n",
    ".partitionBy(\"age\")\\\n",
    ".save()"
   ]
  },
  {
   "cell_type": "code",
   "execution_count": null,
   "id": "c6b0d711",
   "metadata": {},
   "outputs": [],
   "source": [
    "output.write\\\n",
    ".format(\"avro\").mode(\"overwrite\")\\\n",
    ".option(\"path\", \"C:/Users/shanb/SparkTraining/op\")\\\n",
    ".partitionBy(\"age\")\\\n",
    ".save()"
   ]
  }
 ],
 "metadata": {
  "kernelspec": {
   "display_name": "Python 3 (ipykernel)",
   "language": "python",
   "name": "python3"
  },
  "language_info": {
   "codemirror_mode": {
    "name": "ipython",
    "version": 3
   },
   "file_extension": ".py",
   "mimetype": "text/x-python",
   "name": "python",
   "nbconvert_exporter": "python",
   "pygments_lexer": "ipython3",
   "version": "3.11.5"
  }
 },
 "nbformat": 4,
 "nbformat_minor": 5
}
