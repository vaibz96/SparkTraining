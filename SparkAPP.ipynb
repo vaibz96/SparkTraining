{
 "cells": [
  {
   "cell_type": "code",
   "execution_count": 18,
   "id": "ed68e9f2",
   "metadata": {},
   "outputs": [],
   "source": [
    "# Importing the packages\n",
    "from pyspark.sql import SparkSession\n",
    "from pyspark.sql.types import StructType, StructField, IntegerType, StringType\n",
    "import pyspark.sql.functions as func"
   ]
  },
  {
   "cell_type": "code",
   "execution_count": 19,
   "id": "6737aa70",
   "metadata": {},
   "outputs": [],
   "source": [
    "# Creating the SparkSession\n",
    "spark = SparkSession.builder.appName(\"FirstApp\").getOrCreate()"
   ]
  },
  {
   "cell_type": "code",
   "execution_count": 23,
   "id": "08d8985d",
   "metadata": {},
   "outputs": [],
   "source": [
    "# Defining schema for your DataFrame\n",
    "mySchema = StructType([\n",
    "    StructField(\"userID\", IntegerType(), True),\n",
    "    StructField(\"name\", StringType(), True),\n",
    "    StructField(\"age\", IntegerType(), True),\n",
    "    StructField(\"friends\", IntegerType(), True),\n",
    "])"
   ]
  },
  {
   "cell_type": "code",
   "execution_count": 24,
   "id": "8b39b09b",
   "metadata": {},
   "outputs": [],
   "source": [
    "# Creating DataFrame on a CSV file\n",
    "people = spark.read.format(\"csv\")\\\n",
    ".schema(mySchema)\\\n",
    ".option(\"path\", \"fakefriends.csv\")\\\n",
    ".load()"
   ]
  },
  {
   "cell_type": "code",
   "execution_count": 25,
   "id": "4cd46571",
   "metadata": {},
   "outputs": [],
   "source": [
    "# Performing all the transformations\n",
    "output = people.select(people.userID, people.name, people.age, people.friends)\\\n",
    ".where(people.age < 30).withColumn('insert_ts', func.current_timestamp())\\\n",
    ".orderBy(people.userID)"
   ]
  },
  {
   "cell_type": "code",
   "execution_count": 26,
   "id": "cf7bb025",
   "metadata": {},
   "outputs": [
    {
     "data": {
      "text/plain": [
       "112"
      ]
     },
     "execution_count": 26,
     "metadata": {},
     "output_type": "execute_result"
    }
   ],
   "source": [
    "# taking the count of o/p DataFrame\n",
    "output.count()"
   ]
  },
  {
   "cell_type": "code",
   "execution_count": 27,
   "id": "b5e31610",
   "metadata": {},
   "outputs": [],
   "source": [
    "# Creating a Temp View\n",
    "output.createOrReplaceTempView(\"peoples\")"
   ]
  },
  {
   "cell_type": "code",
   "execution_count": 28,
   "id": "adc5b444",
   "metadata": {},
   "outputs": [
    {
     "name": "stdout",
     "output_type": "stream",
     "text": [
      "+--------+---+-------+--------------------+\n",
      "|    name|age|friends|           insert_ts|\n",
      "+--------+---+-------+--------------------+\n",
      "|Jean-Luc| 26|      2|2024-02-15 21:15:...|\n",
      "|    Hugh| 27|    181|2024-02-15 21:15:...|\n",
      "|  Weyoun| 22|    323|2024-02-15 21:15:...|\n",
      "|   Miles| 19|    268|2024-02-15 21:15:...|\n",
      "|  Julian| 25|      1|2024-02-15 21:15:...|\n",
      "|     Ben| 21|    445|2024-02-15 21:15:...|\n",
      "|  Julian| 22|    100|2024-02-15 21:15:...|\n",
      "|     Nog| 26|    281|2024-02-15 21:15:...|\n",
      "| Beverly| 27|    305|2024-02-15 21:15:...|\n",
      "|    Morn| 25|     96|2024-02-15 21:15:...|\n",
      "|   Brunt| 24|     49|2024-02-15 21:15:...|\n",
      "|     Nog| 20|      1|2024-02-15 21:15:...|\n",
      "| Beverly| 19|    269|2024-02-15 21:15:...|\n",
      "|   Brunt| 19|      5|2024-02-15 21:15:...|\n",
      "|  Geordi| 20|    100|2024-02-15 21:15:...|\n",
      "|  Geordi| 21|    477|2024-02-15 21:15:...|\n",
      "|  Kasidy| 22|    179|2024-02-15 21:15:...|\n",
      "|   Brunt| 20|    384|2024-02-15 21:15:...|\n",
      "|     Ben| 28|    311|2024-02-15 21:15:...|\n",
      "|    Worf| 24|    492|2024-02-15 21:15:...|\n",
      "+--------+---+-------+--------------------+\n",
      "only showing top 20 rows\n",
      "\n"
     ]
    }
   ],
   "source": [
    "# Running a simple Spark SQL query\n",
    "spark.sql(\"select name, age, friends, insert_ts from peoples\").show()"
   ]
  },
  {
   "cell_type": "code",
   "execution_count": null,
   "id": "9e7334f0",
   "metadata": {},
   "outputs": [],
   "source": []
  }
 ],
 "metadata": {
  "kernelspec": {
   "display_name": "Python 3 (ipykernel)",
   "language": "python",
   "name": "python3"
  },
  "language_info": {
   "codemirror_mode": {
    "name": "ipython",
    "version": 3
   },
   "file_extension": ".py",
   "mimetype": "text/x-python",
   "name": "python",
   "nbconvert_exporter": "python",
   "pygments_lexer": "ipython3",
   "version": "3.11.5"
  }
 },
 "nbformat": 4,
 "nbformat_minor": 5
}
