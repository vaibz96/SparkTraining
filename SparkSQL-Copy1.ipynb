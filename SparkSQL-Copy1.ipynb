{
 "cells": [
  {
   "cell_type": "code",
   "execution_count": 2,
   "id": "2f5a78af",
   "metadata": {},
   "outputs": [],
   "source": [
    "from pyspark.sql import SparkSession\n",
    "from pyspark.sql.functions import *"
   ]
  },
  {
   "cell_type": "code",
   "execution_count": 3,
   "id": "2adc311c",
   "metadata": {},
   "outputs": [],
   "source": [
    "spark = SparkSession.\\\n",
    "builder.\\\n",
    "appName(\"sparksql\").\\\n",
    "enableHiveSupport().\\\n",
    "getOrCreate()"
   ]
  },
  {
   "cell_type": "code",
   "execution_count": 4,
   "id": "b07fbe73",
   "metadata": {},
   "outputs": [
    {
     "name": "stdout",
     "output_type": "stream",
     "text": [
      "3.5.0\n"
     ]
    }
   ],
   "source": [
    "print(spark.version)"
   ]
  },
  {
   "cell_type": "code",
   "execution_count": 8,
   "id": "b55e8c68",
   "metadata": {},
   "outputs": [],
   "source": [
    "data = spark.read.format(\"csv\").\\\n",
    "option('inferSchema', 'true').\\\n",
    "option('header', 'true').\\\n",
    "option('path', 'operations_management.csv').\\\n",
    "load()"
   ]
  },
  {
   "cell_type": "code",
   "execution_count": 9,
   "id": "d5670f33",
   "metadata": {},
   "outputs": [
    {
     "name": "stdout",
     "output_type": "stream",
     "text": [
      "root\n",
      " |-- description: string (nullable = true)\n",
      " |-- industry: string (nullable = true)\n",
      " |-- level: integer (nullable = true)\n",
      " |-- size: string (nullable = true)\n",
      " |-- line_code: string (nullable = true)\n",
      " |-- value: integer (nullable = true)\n",
      "\n"
     ]
    }
   ],
   "source": [
    "data.printSchema()"
   ]
  },
  {
   "cell_type": "code",
   "execution_count": 16,
   "id": "3234f50b",
   "metadata": {},
   "outputs": [],
   "source": [
    "data.createOrReplaceGlobalTempView(\"test\")"
   ]
  },
  {
   "cell_type": "code",
   "execution_count": 17,
   "id": "94c7a373",
   "metadata": {},
   "outputs": [],
   "source": [
    "data_2 = spark.sql(\"\"\"\n",
    "SELECT * FROM test\n",
    "\"\"\")"
   ]
  },
  {
   "cell_type": "code",
   "execution_count": 18,
   "id": "cef8db5a",
   "metadata": {},
   "outputs": [
    {
     "name": "stdout",
     "output_type": "stream",
     "text": [
      "+--------------------+--------------------+-----+---------------+---------+-----+\n",
      "|         description|            industry|level|           size|line_code|value|\n",
      "+--------------------+--------------------+-----+---------------+---------+-----+\n",
      "|Awareness of clim...|               total|    0| 6–19 employees| C0300.01|13080|\n",
      "|Awareness of clim...|               total|    0|20–49 employees| C0300.01| 3348|\n",
      "|Awareness of clim...|               total|    0|50–99 employees| C0300.01| 1089|\n",
      "|Awareness of clim...|               total|    0| 100+ employees| C0300.01| 1023|\n",
      "|Awareness of clim...|Agriculture, fore...|    1|          total| C0300.01| 2364|\n",
      "|Awareness of clim...|         Agriculture|    2|          total| C0300.01| 1683|\n",
      "|Awareness of clim...|  Commercial fishing|    2|          total| C0300.01|   27|\n",
      "|Awareness of clim...|  Forestry & logging|    2|          total| C0300.01|  126|\n",
      "|Awareness of clim...|Agriculture, fore...|    2|          total| C0300.01|  528|\n",
      "|Awareness of clim...|              Mining|    1|          total| C0300.01|   72|\n",
      "|Awareness of clim...|       Manufacturing|    1|          total| C0300.01| 1971|\n",
      "|Awareness of clim...|Food, beverage, &...|    2|          total| C0300.01|  588|\n",
      "|Awareness of clim...|Textile, clothing...|    2|          total| C0300.01|   96|\n",
      "|Awareness of clim...|Wood & paper product|    2|          total| C0300.01|  156|\n",
      "|Awareness of clim...|Printing, publish...|    2|          total| C0300.01|   72|\n",
      "|Awareness of clim...|Petroleum, coal, ...|    2|          total| C0300.01|  189|\n",
      "|Awareness of clim...|Non-metallic mine...|    2|          total| C0300.01|  108|\n",
      "|Awareness of clim...|       Metal product|    2|          total| C0300.01|  246|\n",
      "|Awareness of clim...|Transport and ind...|    2|          total| C0300.01|  285|\n",
      "|Awareness of clim...|Other machinery &...|    2|          total| C0300.01|  117|\n",
      "+--------------------+--------------------+-----+---------------+---------+-----+\n",
      "only showing top 20 rows\n",
      "\n"
     ]
    }
   ],
   "source": [
    "data_2.show()"
   ]
  },
  {
   "cell_type": "code",
   "execution_count": 19,
   "id": "c32be599",
   "metadata": {},
   "outputs": [
    {
     "data": {
      "text/plain": [
       "[Database(name='default', catalog='spark_catalog', description='Default Hive database', locationUri='file:/C:/Users/shanb/SparkTraining/spark-warehouse')]"
      ]
     },
     "execution_count": 19,
     "metadata": {},
     "output_type": "execute_result"
    }
   ],
   "source": [
    "spark.catalog.listDatabases()"
   ]
  },
  {
   "cell_type": "code",
   "execution_count": 20,
   "id": "444dac42",
   "metadata": {},
   "outputs": [
    {
     "data": {
      "text/plain": [
       "[Table(name='test', catalog=None, namespace=[], description=None, tableType='TEMPORARY', isTemporary=True)]"
      ]
     },
     "execution_count": 20,
     "metadata": {},
     "output_type": "execute_result"
    }
   ],
   "source": [
    "spark.catalog.listTables()"
   ]
  },
  {
   "cell_type": "code",
   "execution_count": 21,
   "id": "854394e7",
   "metadata": {},
   "outputs": [
    {
     "data": {
      "text/plain": [
       "True"
      ]
     },
     "execution_count": 21,
     "metadata": {},
     "output_type": "execute_result"
    }
   ],
   "source": [
    "spark.catalog.dropGlobalTempView(\"test\")"
   ]
  },
  {
   "cell_type": "code",
   "execution_count": null,
   "id": "6f637ac1",
   "metadata": {},
   "outputs": [],
   "source": []
  }
 ],
 "metadata": {
  "kernelspec": {
   "display_name": "Python 3 (ipykernel)",
   "language": "python",
   "name": "python3"
  },
  "language_info": {
   "codemirror_mode": {
    "name": "ipython",
    "version": 3
   },
   "file_extension": ".py",
   "mimetype": "text/x-python",
   "name": "python",
   "nbconvert_exporter": "python",
   "pygments_lexer": "ipython3",
   "version": "3.11.5"
  }
 },
 "nbformat": 4,
 "nbformat_minor": 5
}
